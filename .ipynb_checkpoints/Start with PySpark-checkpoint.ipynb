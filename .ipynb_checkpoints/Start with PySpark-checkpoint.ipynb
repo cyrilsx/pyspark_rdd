{
 "cells": [
  {
   "cell_type": "markdown",
   "metadata": {},
   "source": [
    "# Spark Operation\n",
    " \n",
    "The first step is to initiate Spark using `SparkContext` and `SparkConf`. The configuration allows to give parameter to the job. There are 3 parameters you will always need:\n",
    "     * Master node\n",
    "     * Application name\n",
    "     * JVM configurations (such as set memory size for workers)\n",
    " "
   ]
  },
  {
   "cell_type": "code",
   "execution_count": 1,
   "metadata": {},
   "outputs": [],
   "source": [
    "from pyspark.conf import SparkConf\n",
    "from pyspark.context import SparkContext\n",
    "\n",
    "conf = SparkConf().setMaster(\"local\").setAppName(\"Spark Operation\")\n",
    "sc = SparkContext(conf=conf)"
   ]
  },
  {
   "cell_type": "markdown",
   "metadata": {},
   "source": [
    "Loading Data\n",
    "--\n",
    "In order to load data, `SparkContext` provides the following methods:\n",
    "    * textFile(pathToFile)\n",
    "    * parallelize(collection)\n",
    "\n",
    "Most of the time, `parallelize` is used only for debugging. `textFile` can load files from local system, from HDFS and from S3.\n",
    "\n",
    "In this notebook, data will be loaded using `parallelize`.\n",
    "In the snippet below, the action `first()` returns the first element of the RDD."
   ]
  },
  {
   "cell_type": "code",
   "execution_count": 2,
   "metadata": {},
   "outputs": [
    {
     "data": {
      "text/plain": [
       "1"
      ]
     },
     "execution_count": 2,
     "metadata": {},
     "output_type": "execute_result"
    }
   ],
   "source": [
    "rdd = sc.parallelize([1,2,3,4,5,6,7,8,9,10])\n",
    "rdd.first()"
   ]
  },
  {
   "cell_type": "markdown",
   "metadata": {},
   "source": [
    "Transformation\n",
    "--\n",
    "\n",
    "Transformations return another RDD from the first one. Actions compute a result based from an RDD.\n",
    "\n",
    "Transformations are _lazy_. This means that when you call a transformation, nothing will happen until an action is performed. "
   ]
  },
  {
   "cell_type": "code",
   "execution_count": null,
   "metadata": {},
   "outputs": [],
   "source": [
    "rdd = sc.parallelize([1,2,3,4,5,6,7,8,9,10])\n",
    "rdd.filter(lambda x: x % 2 == 0) # Nothing actually happens"
   ]
  },
  {
   "cell_type": "markdown",
   "metadata": {},
   "source": [
    "So nothing happened. To illustrate transformation, the action `collect` will be used. \n",
    "`collect` returns the RDD as a list\n",
    "\n",
    "Filter\n",
    "--\n",
    "\n",
    "`filter` takes a predicate and return an RDD with all elements matching the predicate."
   ]
  },
  {
   "cell_type": "code",
   "execution_count": 3,
   "metadata": {},
   "outputs": [
    {
     "data": {
      "text/plain": [
       "[2, 4, 6, 8, 10]"
      ]
     },
     "execution_count": 3,
     "metadata": {},
     "output_type": "execute_result"
    }
   ],
   "source": [
    "# collect\n",
    "rdd = sc.parallelize([1,2,3,4,5,6,7,8,9,10])\n",
    "rdd.collect()\n",
    "\n",
    "rdd.filter(lambda x: x % 2 == 0).collect()"
   ]
  },
  {
   "cell_type": "markdown",
   "metadata": {},
   "source": [
    "Map\n",
    "--\n",
    "`map` transform RDD's elements to another RDD."
   ]
  },
  {
   "cell_type": "code",
   "execution_count": 5,
   "metadata": {},
   "outputs": [
    {
     "data": {
      "text/plain": [
       "['1 element',\n",
       " '2 element',\n",
       " '3 element',\n",
       " '4 element',\n",
       " '5 element',\n",
       " '6 element',\n",
       " '7 element',\n",
       " '8 element',\n",
       " '9 element',\n",
       " '10 element']"
      ]
     },
     "execution_count": 5,
     "metadata": {},
     "output_type": "execute_result"
    }
   ],
   "source": [
    "rdd = sc.parallelize([1,2,3,4,5,6,7,8,9,10])\n",
    "rdd.map(lambda n: \"%s element\" % str(n)).collect()"
   ]
  },
  {
   "cell_type": "code",
   "execution_count": 6,
   "metadata": {},
   "outputs": [
    {
     "data": {
      "text/plain": [
       "[2, 4, 6, 8, 10, 12, 14, 16, 18, 20]"
      ]
     },
     "execution_count": 6,
     "metadata": {},
     "output_type": "execute_result"
    }
   ],
   "source": [
    "rdd = sc.parallelize([1,2,3,4,5,6,7,8,9,10])\n",
    "rdd.map(lambda n: n * 2).collect()"
   ]
  },
  {
   "cell_type": "markdown",
   "metadata": {},
   "source": [
    "FlatMap\n",
    "--\n",
    "`flatMap` transform and flatten an RDD with a function "
   ]
  },
  {
   "cell_type": "code",
   "execution_count": 8,
   "metadata": {},
   "outputs": [
    {
     "data": {
      "text/plain": [
       "[1, 2, 3, 2, 4, 6, 3, 6, 9]"
      ]
     },
     "execution_count": 8,
     "metadata": {},
     "output_type": "execute_result"
    }
   ],
   "source": [
    "rdd = sc.parallelize([1,2,3])\n",
    "rdd.flatMap(lambda n: [n, n * 2, n * 3]).collect()"
   ]
  },
  {
   "cell_type": "markdown",
   "metadata": {},
   "source": [
    "Distinct\n",
    "---\n",
    "Remove duplicates"
   ]
  },
  {
   "cell_type": "code",
   "execution_count": 10,
   "metadata": {},
   "outputs": [
    {
     "data": {
      "text/plain": [
       "['bien', 'ou', '?']"
      ]
     },
     "execution_count": 10,
     "metadata": {},
     "output_type": "execute_result"
    }
   ],
   "source": [
    "rdd = sc.parallelize([\"bien\", \"ou\", \"bien\", \"?\"])\n",
    "rdd.distinct().collect()"
   ]
  },
  {
   "cell_type": "markdown",
   "metadata": {},
   "source": [
    "Sample\n",
    "---\n",
    "Provides a data sample from the RDD.\n",
    "This method has 2 arguments:\n",
    "    - with replacement or not\n",
    "    - fraction"
   ]
  },
  {
   "cell_type": "code",
   "execution_count": 13,
   "metadata": {},
   "outputs": [
    {
     "data": {
      "text/plain": [
       "[3, 4, 9, 10]"
      ]
     },
     "execution_count": 13,
     "metadata": {},
     "output_type": "execute_result"
    }
   ],
   "source": [
    "rdd = sc.parallelize([1,2,3,4,5,6,7,8,9,10])\n",
    "rdd.sample(False, 0.5).collect()"
   ]
  },
  {
   "cell_type": "markdown",
   "metadata": {},
   "source": [
    "Transformation between RDD\n",
    "---\n",
    "These transformation allows the user to play with sets.\n",
    "The parameter of all these methods is another RDD.\n",
    "\n",
    "Union\n",
    "---\n",
    "Produce an RDD containing elements of both RDD\n"
   ]
  },
  {
   "cell_type": "code",
   "execution_count": 14,
   "metadata": {},
   "outputs": [
    {
     "data": {
      "text/plain": [
       "[1, 2, 3, 3, 4, 5, 6]"
      ]
     },
     "execution_count": 14,
     "metadata": {},
     "output_type": "execute_result"
    }
   ],
   "source": [
    "rdd_a = sc.parallelize([1,2,3])\n",
    "rdd_b = sc.parallelize([3,4,5,6])\n",
    "rdd_a.union(rdd_b).collect()"
   ]
  },
  {
   "cell_type": "markdown",
   "metadata": {},
   "source": [
    "Intersection\n",
    "---\n",
    "Produce an RDD containing elements found in both RDD\n"
   ]
  },
  {
   "cell_type": "code",
   "execution_count": 15,
   "metadata": {},
   "outputs": [
    {
     "data": {
      "text/plain": [
       "[3]"
      ]
     },
     "execution_count": 15,
     "metadata": {},
     "output_type": "execute_result"
    }
   ],
   "source": [
    "rdd_a = sc.parallelize([1,2,3])\n",
    "rdd_b = sc.parallelize([3,4,5,6])\n",
    "rdd_a.intersection(rdd_b).collect()"
   ]
  },
  {
   "cell_type": "markdown",
   "metadata": {},
   "source": [
    "Sustract\n",
    "---\n",
    "Produce an RDD that remove all elements of one RDD"
   ]
  },
  {
   "cell_type": "code",
   "execution_count": 16,
   "metadata": {},
   "outputs": [
    {
     "data": {
      "text/plain": [
       "[2, 1]"
      ]
     },
     "execution_count": 16,
     "metadata": {},
     "output_type": "execute_result"
    }
   ],
   "source": [
    "rdd_a = sc.parallelize([1,2,3,4])\n",
    "rdd_b = sc.parallelize([3,4,5,6])\n",
    "rdd_a.subtract(rdd_b).collect()"
   ]
  },
  {
   "cell_type": "markdown",
   "metadata": {},
   "source": [
    "Cartesian\n",
    "---\n",
    "Cartesian product with another RDD"
   ]
  },
  {
   "cell_type": "code",
   "execution_count": 18,
   "metadata": {},
   "outputs": [
    {
     "data": {
      "text/plain": [
       "[(1, 3), (1, 4), (1, 5), (2, 3), (2, 4), (2, 5), (3, 3), (3, 4), (3, 5)]"
      ]
     },
     "execution_count": 18,
     "metadata": {},
     "output_type": "execute_result"
    }
   ],
   "source": [
    "rdd_a = sc.parallelize([1,2,3])\n",
    "rdd_b = sc.parallelize([3,4,5])\n",
    "rdd_a.cartesian(rdd_b).collect()"
   ]
  },
  {
   "cell_type": "markdown",
   "metadata": {},
   "source": [
    "Action\n",
    "---\n",
    "The only action used until now is `collect`. \n",
    "\n",
    "Reduce\n",
    "---\n",
    "The most common action is `reduce`. \n",
    "`reduce` takes 2 elements of the RDD and return only one of the same type.\n"
   ]
  },
  {
   "cell_type": "code",
   "execution_count": 19,
   "metadata": {},
   "outputs": [
    {
     "data": {
      "text/plain": [
       "10"
      ]
     },
     "execution_count": 19,
     "metadata": {},
     "output_type": "execute_result"
    }
   ],
   "source": [
    "rdd = sc.parallelize([1,2,3,4])\n",
    "rdd.reduce(lambda a, b: a + b)"
   ]
  },
  {
   "cell_type": "markdown",
   "metadata": {},
   "source": [
    "Fold\n",
    "---\n",
    "`fold` is similar to `reduce` but in addition, a _zero value_ must be provided. In mathematics, this _zero value_ is called identity element. \n",
    "\n",
    "e.g: \n",
    "    * +, identity element 0\n",
    "    * x, identity element 1\n",
    "    * collections, identity element empty collections\n"
   ]
  },
  {
   "cell_type": "code",
   "execution_count": 20,
   "metadata": {},
   "outputs": [
    {
     "data": {
      "text/plain": [
       "10"
      ]
     },
     "execution_count": 20,
     "metadata": {},
     "output_type": "execute_result"
    }
   ],
   "source": [
    "rdd = sc.parallelize([1,2,3,4])\n",
    "rdd.fold(0, lambda a, b: a + b)"
   ]
  },
  {
   "cell_type": "code",
   "execution_count": 22,
   "metadata": {},
   "outputs": [
    {
     "data": {
      "text/plain": [
       "24"
      ]
     },
     "execution_count": 22,
     "metadata": {},
     "output_type": "execute_result"
    }
   ],
   "source": [
    "rdd = sc.parallelize([1,2,3,4])\n",
    "rdd.fold(1, lambda a, b: a * b)"
   ]
  },
  {
   "cell_type": "markdown",
   "metadata": {},
   "source": [
    "Aggregate\n",
    "---\n",
    "`fold` and `reduce` always return the same type. "
   ]
  },
  {
   "cell_type": "code",
   "execution_count": 25,
   "metadata": {},
   "outputs": [],
   "source": [
    "rdd = sc.parallelize([1,2,3,4])\n",
    "sumCount = rdd.aggregate((0, 0), \\\n",
    "                        lambda acc, value: (acc[0], + value, acc[1] + 1), \\\n",
    "                        lambda acc1, acc2: (acc1[0] + acc2[0], acc1[1] + acc2[2]))"
   ]
  },
  {
   "cell_type": "code",
   "execution_count": null,
   "metadata": {},
   "outputs": [],
   "source": []
  }
 ],
 "metadata": {
  "kernelspec": {
   "display_name": "Python 3",
   "language": "python",
   "name": "python3"
  },
  "language_info": {
   "codemirror_mode": {
    "name": "ipython",
    "version": 3
   },
   "file_extension": ".py",
   "mimetype": "text/x-python",
   "name": "python",
   "nbconvert_exporter": "python",
   "pygments_lexer": "ipython3",
   "version": "3.6.4"
  }
 },
 "nbformat": 4,
 "nbformat_minor": 2
}
